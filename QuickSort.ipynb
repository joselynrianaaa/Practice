{
 "cells": [
  {
   "cell_type": "code",
   "execution_count": 1,
   "id": "b85363aa-6d5a-423b-9fb7-659748ba8954",
   "metadata": {},
   "outputs": [],
   "source": [
    "#Function takes three parameters array , left and right\n",
    "def quicksort(arr , s , e):\n",
    "    if s < e:\n",
    "        #find the middle index floor divison/integer divison\n",
    "        mid = (s + e)//2 \n",
    "        #using middle element as pivot\n",
    "        pivot = arr[mid]\n",
    "        index = partition(arr , s , e , pivot)\n",
    "        #recursively sort elements before and after partition\n",
    "        quicksort(arr , s , index-1)\n",
    "        quicksort(arr , index , e)\n",
    "\n",
    "def quicksortalgo(arr):\n",
    "    quicksort(arr , 0 , len(arr)-1)\n",
    "    \n",
    "def partition(arr, s , e , pivot):\n",
    "    \"\"\"\n",
    "    This function partitions the array 'arr' into two parts:\n",
    "    elements less than the pivot and elements greater than the pivot.\n",
    "    It returns the index where the pivot ends up.\n",
    "    \"\"\"\n",
    "    while s <= e:\n",
    "        # Move the left pointer to the right until an element is found that is greater than or equal to the pivot\n",
    "        while arr[s] < pivot:\n",
    "            s+=1\n",
    "         # Move the right pointer to the left until an element is found that is less than or equal to the pivot\n",
    "        while arr[e] > pivot:\n",
    "            e-=1\n",
    "         # Swap elements at the left and right pointers if they are out of place\n",
    "        if s <= e:\n",
    "            arr[s] , arr[e] = arr[e] , arr[s]\n",
    "            s+=1\n",
    "            e-=1\n",
    "    # Return the position of the left pointer, which is now at the start of the right partition\n",
    "    return s\n"
   ]
  },
  {
   "cell_type": "code",
   "execution_count": 2,
   "id": "d7f8ebd0-0769-43e6-af27-20cd690c2b20",
   "metadata": {},
   "outputs": [
    {
     "name": "stdout",
     "output_type": "stream",
     "text": [
      "Before sort: [2, 5, 3, 1, 4]\n",
      "After sort: [1, 2, 3, 4, 5]\n"
     ]
    }
   ],
   "source": [
    "numbers = [2,5,3,1,4]\n",
    "print(\"Before sort:\",numbers)\n",
    "quicksortalgo(numbers)\n",
    "print(\"After sort:\",numbers)\n",
    "\n"
   ]
  },
  {
   "cell_type": "code",
   "execution_count": 1,
   "id": "8f31fd45-520c-4123-ad7d-7e834fe5848e",
   "metadata": {},
   "outputs": [],
   "source": [
    "def quicksort(arr , s , e ):\n",
    "    if s < e:\n",
    "        mid = (s+e)//2\n",
    "        pivot = arr[mid]\n",
    "        index = partition(arr, s,e, pivot)\n",
    "        quicksort(arr , s , index - 1)\n",
    "        quicksort(arr , index , e)\n",
    "\n",
    "def partition(arr,s,e,pivot):\n",
    "    while s <= e:\n",
    "        while arr[s] < pivot:\n",
    "            s += 1\n",
    "        while arr[e] > pivot:\n",
    "            e -= 1\n",
    "        if s <= e:\n",
    "            arr[s] , arr[e] = arr[e] , arr[s]\n",
    "            s += 1\n",
    "            e -= 1\n",
    "    return s\n",
    "\n",
    "def quicksortalgo(arr):\n",
    "    quicksort(arr , 0 , len(arr)-1)\n",
    "\n",
    "\n",
    "      \n"
   ]
  },
  {
   "cell_type": "code",
   "execution_count": 2,
   "id": "68d48168-ec14-4364-b132-4d8a431931be",
   "metadata": {},
   "outputs": [
    {
     "name": "stdout",
     "output_type": "stream",
     "text": [
      "Before sort: [2, 5, 3, 1, 4]\n",
      "After sort: [1, 2, 3, 4, 5]\n"
     ]
    }
   ],
   "source": [
    "\n",
    "numbers = [2,5,3,1,4]\n",
    "print(\"Before sort:\",numbers)\n",
    "quicksortalgo(numbers)\n",
    "print(\"After sort:\",numbers)  "
   ]
  },
  {
   "cell_type": "markdown",
   "id": "cc355d12-094b-4406-a776-6e401e72f9bb",
   "metadata": {},
   "source": [
    "quicksort(arr, s, index - 1):\n",
    "\n",
    "Purpose: This line sorts the left partition of the array.\n",
    "Parameters:\n",
    "arr: The array being sorted.\n",
    "s: The starting index of the current partition.\n",
    "index - 1: The ending index of the left partition. After partitioning, index is the first index of the right partition, so index - 1 is the last index of the left partition.\n",
    "Action: This recursive call sorts all elements from index s to index - 1, which are elements that are less than or equal to the pivot.\n",
    "quicksort(arr, index, e):\n",
    "\n",
    "Purpose: This line sorts the right partition of the array.\n",
    "Parameters:\n",
    "arr: The array being sorted.\n",
    "index: The starting index of the right partition. This is where elements greater than the pivot start after the partitioning step.\n",
    "e: The ending index of the current partition.\n",
    "Action: This recursive call sorts all elements from index index to e, which are elements greater than the pivot."
   ]
  },
  {
   "cell_type": "code",
   "execution_count": null,
   "id": "00a503d4-a849-47ce-a7ab-2560777eac71",
   "metadata": {},
   "outputs": [],
   "source": []
  }
 ],
 "metadata": {
  "kernelspec": {
   "display_name": "Python 3 (ipykernel)",
   "language": "python",
   "name": "python3"
  },
  "language_info": {
   "codemirror_mode": {
    "name": "ipython",
    "version": 3
   },
   "file_extension": ".py",
   "mimetype": "text/x-python",
   "name": "python",
   "nbconvert_exporter": "python",
   "pygments_lexer": "ipython3",
   "version": "3.9.12"
  }
 },
 "nbformat": 4,
 "nbformat_minor": 5
}
