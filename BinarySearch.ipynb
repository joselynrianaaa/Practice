{
 "cells": [
  {
   "cell_type": "code",
   "execution_count": 3,
   "id": "dd631b55-e52b-49d1-9610-2882495b26f8",
   "metadata": {},
   "outputs": [
    {
     "name": "stdout",
     "output_type": "stream",
     "text": [
      "Found at  4\n"
     ]
    }
   ],
   "source": [
    "def search(list , n):\n",
    "    l = 0;\n",
    "    u = len(list) - 1\n",
    "    \n",
    "    while l <= u:\n",
    "        mid = (l+u)//2\n",
    "        \n",
    "        if list[mid] == n:\n",
    "            globals()['pos'] = mid\n",
    "            return True\n",
    "        else:\n",
    "            if list[mid] < n:\n",
    "                l = mid\n",
    "            else:\n",
    "                u = mid\n",
    "\n",
    "list = [4,5,6,7,9]\n",
    "n = 7\n",
    "\n",
    "if search(list , n):\n",
    "    print(\"Found at \" , pos+1)\n",
    "else:\n",
    "    print(\"Not Found\")\n",
    "\n",
    "                \n",
    "            "
   ]
  },
  {
   "cell_type": "code",
   "execution_count": null,
   "id": "c004e26a-da6a-44ec-8de9-d10149102d9c",
   "metadata": {},
   "outputs": [],
   "source": [
    "\n",
    "        "
   ]
  },
  {
   "cell_type": "code",
   "execution_count": null,
   "id": "2c1c5679-925c-4f32-9bc7-f280943baca6",
   "metadata": {},
   "outputs": [],
   "source": []
  }
 ],
 "metadata": {
  "kernelspec": {
   "display_name": "Python 3 (ipykernel)",
   "language": "python",
   "name": "python3"
  },
  "language_info": {
   "codemirror_mode": {
    "name": "ipython",
    "version": 3
   },
   "file_extension": ".py",
   "mimetype": "text/x-python",
   "name": "python",
   "nbconvert_exporter": "python",
   "pygments_lexer": "ipython3",
   "version": "3.9.12"
  }
 },
 "nbformat": 4,
 "nbformat_minor": 5
}
